{
 "cells": [
  {
   "cell_type": "markdown",
   "metadata": {},
   "source": [
    "02/01/2024\n",
    "\n",
    "face- recogination"
   ]
  },
  {
   "cell_type": "code",
   "execution_count": 36,
   "metadata": {},
   "outputs": [],
   "source": [
    "import cv2\n"
   ]
  },
  {
   "cell_type": "code",
   "execution_count": 37,
   "metadata": {},
   "outputs": [],
   "source": [
    "# replacing folder name with numbers\n",
    "def name_map(x):\n",
    "    if x=='sachin':\n",
    "        return 0\n",
    "    if x=='obama':\n",
    "        return 1\n",
    "    if x=='messi':\n",
    "        return 2\n"
   ]
  },
  {
   "cell_type": "code",
   "execution_count": 38,
   "metadata": {},
   "outputs": [],
   "source": [
    "# to print the output name as messi sachin obama instead od number\n",
    "def get_name(x):\n",
    "    if x==0:\n",
    "        return 'sachin'\n",
    "    if x==1:\n",
    "        return 'obama'\n",
    "    if x==2:\n",
    "        return 'messi'"
   ]
  },
  {
   "cell_type": "code",
   "execution_count": 39,
   "metadata": {},
   "outputs": [],
   "source": [
    "# face_detection : we dont need the background of the image to train the image we only needd the face\n",
    "def detect_face(img):\n",
    "    gray=cv2.cvtColor(img,cv2.COLOR_BGR2GRAY)\n",
    "    face_cascade=cv2.CascadeClassifier(r'C:\\DL projects\\face_recognition\\haarcascade_frontalface_default.xml')\n",
    "    face=face_cascade.detectMultiScale(gray,minNeighbors=4)\n",
    "    ## to get the only region from image\n",
    "    if len(face)==0:  #if there is no face return none\n",
    "        return None,None  #1st none for the image and 2nd none for the rectangle\n",
    "    x,y,w,h=face[0]\n",
    "    return gray[x:x+w,y:y+h],face[0]   # silicing\n",
    "    "
   ]
  },
  {
   "cell_type": "code",
   "execution_count": 40,
   "metadata": {},
   "outputs": [
    {
     "data": {
      "text/plain": [
       "(array([[ 20,  20,  19, ..., 184, 213, 180],\n",
       "        [ 19,  19,  19, ..., 192, 215, 179],\n",
       "        [ 19,  18,  18, ..., 201, 218, 196],\n",
       "        ...,\n",
       "        [  1,   1,   1, ..., 162, 156, 149],\n",
       "        [  1,   1,   1, ..., 164, 153, 139],\n",
       "        [  1,   1,   1, ..., 137, 150, 135]], dtype=uint8),\n",
       " array([83, 38, 92, 92]))"
      ]
     },
     "execution_count": 40,
     "metadata": {},
     "output_type": "execute_result"
    }
   ],
   "source": [
    "img=cv2.imread(r'C:\\DL projects\\face_recognition\\messi.jpg')\n",
    "detect_face(img)"
   ]
  },
  {
   "cell_type": "code",
   "execution_count": 41,
   "metadata": {},
   "outputs": [],
   "source": [
    "import os"
   ]
  },
  {
   "cell_type": "code",
   "execution_count": 42,
   "metadata": {},
   "outputs": [],
   "source": [
    "# do prepare data for training\n",
    "def prepare_training_data(data_folder):\n",
    "    dirs=os.listdir(data_folder)\n",
    "    print(dirs)\n",
    "    faces=[]\n",
    "    labels=[]\n",
    "    for dir_name in dirs:\n",
    "        sub_dir=data_folder+'/'+ dir_name  #path of sub directory\n",
    "        # print(sub_dir)\n",
    "        images=os.listdir(sub_dir)\n",
    "        # print(images)\n",
    "        for img in images:\n",
    "            img_path=sub_dir+'/'+img\n",
    "            # print(img_path)\n",
    "            image=cv2.imread(img_path)\n",
    "            cv2.imshow('training images',image)\n",
    "            cv2.waitKey(500)\n",
    "            # detect face\n",
    "            face,rect=detect_face(image)\n",
    "            if face is not None:\n",
    "                faces.append(face)\n",
    "                labels.append(name_map(dir_name))\n",
    "                # print(labels)\n",
    "            \n",
    "    cv2.waitKey(1)\n",
    "    cv2.destroyAllWindows()\n",
    "    return faces,labels\n"
   ]
  },
  {
   "cell_type": "code",
   "execution_count": 43,
   "metadata": {},
   "outputs": [
    {
     "name": "stdout",
     "output_type": "stream",
     "text": [
      "['messi', 'obama', 'sachin']\n"
     ]
    },
    {
     "name": "stdout",
     "output_type": "stream",
     "text": [
      "[2, 2, 2, 2, 2, 2, 2, 2, 2, 2, 1, 1, 1, 1, 1, 1, 1, 1, 1, 1, 0, 0, 0, 0, 0, 0, 0, 0, 0]\n"
     ]
    }
   ],
   "source": [
    "faces,labels=prepare_training_data(r'C:\\DL projects\\face_recognition\\Data base')\n",
    "print(labels)"
   ]
  },
  {
   "cell_type": "markdown",
   "metadata": {},
   "source": [
    "03.01.2024"
   ]
  },
  {
   "cell_type": "code",
   "execution_count": 44,
   "metadata": {},
   "outputs": [
    {
     "data": {
      "text/plain": [
       "29"
      ]
     },
     "execution_count": 44,
     "metadata": {},
     "output_type": "execute_result"
    }
   ],
   "source": [
    "len(labels)"
   ]
  },
  {
   "cell_type": "code",
   "execution_count": 45,
   "metadata": {},
   "outputs": [
    {
     "data": {
      "text/plain": [
       "< cv2.face.LBPHFaceRecognizer 00000211F300E930>"
      ]
     },
     "execution_count": 45,
     "metadata": {},
     "output_type": "execute_result"
    }
   ],
   "source": [
    "recognizer=cv2.face.LBPHFaceRecognizer_create()#local binary pattern histogram\n",
    "recognizer"
   ]
  },
  {
   "cell_type": "code",
   "execution_count": 46,
   "metadata": {},
   "outputs": [],
   "source": [
    "# labels are in list convert it to array\n",
    "import numpy as np"
   ]
  },
  {
   "cell_type": "code",
   "execution_count": 47,
   "metadata": {},
   "outputs": [],
   "source": [
    "recognizer.train(faces,np.array(labels))"
   ]
  },
  {
   "cell_type": "code",
   "execution_count": 48,
   "metadata": {},
   "outputs": [],
   "source": [
    "# to draw recyangle in the new face and write the name of the image\n",
    "def draw_rectangle(img,rect):\n",
    "    (x,y,w,h)=rect\n",
    "    cv2.rectangle(img,(x,y),(x+w,y+h),(0,0,0),2)"
   ]
  },
  {
   "cell_type": "code",
   "execution_count": 52,
   "metadata": {},
   "outputs": [],
   "source": [
    "def write_text(img,text,x,y):\n",
    "    cv2.putText(img,text,(x,y),cv2.FONT_HERSHEY_COMPLEX,1,(0,0,225),2)"
   ]
  },
  {
   "cell_type": "code",
   "execution_count": 53,
   "metadata": {},
   "outputs": [],
   "source": [
    "# prediction pf new value\n",
    "def pred_new(test_img):\n",
    "    img=test_img.copy()\n",
    "    face,rect=detect_face(test_img)   #detect face\n",
    "    label=recognizer.predict(face)     #predict face\n",
    "    # print(label)\n",
    "    label_text=get_name(label[0])      #label the name\n",
    "    print(label_text)\n",
    "    draw_rectangle(img,rect)          #draw rectangle\n",
    "    write_text(img,label_text,rect[0],rect[1])  #write tesxt\n",
    "    return img\n"
   ]
  },
  {
   "cell_type": "code",
   "execution_count": 54,
   "metadata": {},
   "outputs": [
    {
     "name": "stdout",
     "output_type": "stream",
     "text": [
      "messi\n"
     ]
    }
   ],
   "source": [
    "test_img=cv2.imread(r'C:\\DL projects\\face_recognition\\messi.jpg')\n",
    "predicted=pred_new(test_img)\n",
    "cv2.imshow('ImAGE',predicted)\n",
    "cv2.waitKey()\n",
    "cv2.destroyAllWindows()"
   ]
  },
  {
   "cell_type": "code",
   "execution_count": null,
   "metadata": {},
   "outputs": [],
   "source": []
  }
 ],
 "metadata": {
  "kernelspec": {
   "display_name": "Python 3",
   "language": "python",
   "name": "python3"
  },
  "language_info": {
   "codemirror_mode": {
    "name": "ipython",
    "version": 3
   },
   "file_extension": ".py",
   "mimetype": "text/x-python",
   "name": "python",
   "nbconvert_exporter": "python",
   "pygments_lexer": "ipython3",
   "version": "3.9.13"
  }
 },
 "nbformat": 4,
 "nbformat_minor": 2
}
